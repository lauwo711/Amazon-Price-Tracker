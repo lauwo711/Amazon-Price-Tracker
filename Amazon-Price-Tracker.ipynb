{
 "cells": [
  {
   "cell_type": "code",
   "execution_count": null,
   "metadata": {},
   "outputs": [],
   "source": [
    "import pandas as pd\n",
    "import requests\n",
    "from bs4 import BeautifulSoup\n",
    "import re\n",
    "import numpy as np\n",
    "\n",
    "#main function to check price and send email when target is hit\n",
    "def check_price():\n",
    "    url = 'https://www.amazon.co.jp/gp/offer-listing/B07RNLD6GV/ref=olp_twister_child?ie=UTF8&mv_flavor_name=0&mv_pattern_name=all'\n",
    "\n",
    "    r = requests.get(url)\n",
    "    soup1 = BeautifulSoup(r.content,'html.parser')\n",
    "    soup2 = BeautifulSoup(soup1.prettify(), \"html.parser\")\n",
    "    \n",
    "    #locate the prices class\n",
    "    price = soup2.find_all('span', attrs={'class':'a-size-large a-color-price olpOfferPrice a-text-bold'})\n",
    "    \n",
    "    if len(price)==0: #when price is unavailable,\n",
    "        pass          #it returns indexerror as price_list is empty. Pass the error.\n",
    "        return np.nan #return N/A\n",
    "    else:\n",
    "        price_list = []\n",
    "        for x in price:\n",
    "            price_list.append(re.sub(\"\\D\", \"\", str(x))) #extract digits\n",
    "\n",
    "        if float(price_list[0]) <= 1500: #Target price\n",
    "            send_mail()\n",
    "        \n",
    "        return float(price_list[0]) #return the lowest price"
   ]
  },
  {
   "cell_type": "code",
   "execution_count": null,
   "metadata": {},
   "outputs": [],
   "source": [
    "import smtplib\n",
    "\n",
    "def send_mail():\n",
    "    server = smtplib.SMTP('smtp.gmail.com',587)\n",
    "    server.ehlo()\n",
    "    server.starttls()\n",
    "    server.ehlo()\n",
    "    server.login('123@gmail.com','123') #email, pw\n",
    "    \n",
    "    subject = 'Wajai - Secret Source - 1313 - 4 packs'\n",
    "    body = \"Dear lsw friends,\\r\\r\\nI would like to share this with you.\\r\\r\\n https://www.amazon.co.jp/dp/B07MJKHYDC \\r\\r\\n Love,\\r\\r\\nPeter\"\n",
    "    msg = f\"Subject: {subject}\\n\\n{body}\"\n",
    "    recipients = ['abc@gmail.com']\n",
    "    \n",
    "    server.sendmail('123@gmail.com',recipients,msg)\n",
    "    \n",
    "    print('Email sent.')\n",
    "    \n",
    "    server.quit()"
   ]
  },
  {
   "cell_type": "code",
   "execution_count": null,
   "metadata": {},
   "outputs": [],
   "source": [
    "import time\n",
    "import datetime\n",
    "\n",
    "n=10             #refresh every n seconds\n",
    "time_record=[]   #list to store time\n",
    "px_record=[]     #list to store the lowest price\n",
    "\n",
    "#start the programme\n",
    "while True:\n",
    "    check_price()\n",
    "    time_record.append(datetime.datetime.now().time())\n",
    "    px_record.append(check_price())\n",
    "    time.sleep(n)"
   ]
  },
  {
   "cell_type": "code",
   "execution_count": null,
   "metadata": {},
   "outputs": [],
   "source": [
    "#display times series of price\n",
    "pd.DataFrame({'Time':time_record, 'Price':px_record})"
   ]
  }
 ],
 "metadata": {
  "kernelspec": {
   "display_name": "Python 3",
   "language": "python",
   "name": "python3"
  },
  "language_info": {
   "codemirror_mode": {
    "name": "ipython",
    "version": 3
   },
   "file_extension": ".py",
   "mimetype": "text/x-python",
   "name": "python",
   "nbconvert_exporter": "python",
   "pygments_lexer": "ipython3",
   "version": "3.6.8"
  }
 },
 "nbformat": 4,
 "nbformat_minor": 2
}
